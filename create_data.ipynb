{
 "cells": [
  {
   "cell_type": "markdown",
   "metadata": {},
   "source": [
    "# Import"
   ]
  },
  {
   "cell_type": "code",
   "execution_count": 1,
   "metadata": {},
   "outputs": [],
   "source": [
    "%load_ext autoreload\n",
    "%autoreload 2"
   ]
  },
  {
   "cell_type": "code",
   "execution_count": 2,
   "metadata": {},
   "outputs": [],
   "source": [
    "import numpy as np\n",
    "import matplotlib.pyplot as plt\n",
    "from pathlib import Path\n",
    "from joblib import Parallel, delayed\n",
    "from tqdm import tqdm\n",
    "from PIL import Image\n",
    "import pdb\n",
    "import lmdb\n",
    "import pickle\n",
    "import six\n",
    "import pyarrow as pa\n",
    "import msgpack\n",
    "import pandas as pd\n",
    "import h5py"
   ]
  },
  {
   "cell_type": "markdown",
   "metadata": {},
   "source": [
    "# Config"
   ]
  },
  {
   "cell_type": "code",
   "execution_count": 3,
   "metadata": {},
   "outputs": [],
   "source": [
    "path_data = Path('data')"
   ]
  },
  {
   "cell_type": "code",
   "execution_count": 4,
   "metadata": {},
   "outputs": [
    {
     "name": "stdout",
     "output_type": "stream",
     "text": [
      "cifar-10-batches-py\r\n"
     ]
    }
   ],
   "source": [
    "!ls {path_data}"
   ]
  },
  {
   "cell_type": "markdown",
   "metadata": {},
   "source": [
    "# Load pickle"
   ]
  },
  {
   "cell_type": "code",
   "execution_count": 5,
   "metadata": {},
   "outputs": [],
   "source": [
    "path_cifar = path_data/'cifar-10-batches-py'"
   ]
  },
  {
   "cell_type": "code",
   "execution_count": 6,
   "metadata": {},
   "outputs": [],
   "source": [
    "def unpickle(file):\n",
    "    with open(file, 'rb') as f:\n",
    "        data = pickle.load(f, encoding='bytes')\n",
    "    return data"
   ]
  },
  {
   "cell_type": "code",
   "execution_count": 7,
   "metadata": {},
   "outputs": [],
   "source": [
    "data_batches = [unpickle(path_cifar/('data_batch_' + str(i))) for i in range(1,5)]"
   ]
  },
  {
   "cell_type": "markdown",
   "metadata": {},
   "source": [
    "Get labels, data, and filenames. Note that files are png by default"
   ]
  },
  {
   "cell_type": "code",
   "execution_count": 8,
   "metadata": {},
   "outputs": [
    {
     "data": {
      "text/plain": [
       "(40000,)"
      ]
     },
     "execution_count": 8,
     "metadata": {},
     "output_type": "execute_result"
    }
   ],
   "source": [
    "labels = np.concatenate([data_batch[b'labels'] for data_batch in data_batches])\n",
    "labels.shape"
   ]
  },
  {
   "cell_type": "code",
   "execution_count": 9,
   "metadata": {},
   "outputs": [
    {
     "data": {
      "text/plain": [
       "(40000, 3072)"
      ]
     },
     "execution_count": 9,
     "metadata": {},
     "output_type": "execute_result"
    }
   ],
   "source": [
    "data = np.concatenate([data_batch[b'data'] for data_batch in data_batches])\n",
    "data.shape"
   ]
  },
  {
   "cell_type": "code",
   "execution_count": 10,
   "metadata": {},
   "outputs": [
    {
     "data": {
      "text/plain": [
       "(40000,)"
      ]
     },
     "execution_count": 10,
     "metadata": {},
     "output_type": "execute_result"
    }
   ],
   "source": [
    "filenames = np.concatenate([data_batch[b'filenames'] for data_batch in data_batches])\n",
    "filenames.shape"
   ]
  },
  {
   "cell_type": "markdown",
   "metadata": {},
   "source": [
    "Format stuff"
   ]
  },
  {
   "cell_type": "code",
   "execution_count": 11,
   "metadata": {},
   "outputs": [
    {
     "data": {
      "text/plain": [
       "(40000, 32, 32, 3)"
      ]
     },
     "execution_count": 11,
     "metadata": {},
     "output_type": "execute_result"
    }
   ],
   "source": [
    "def _format_data(data):\n",
    "    return np.transpose(data.reshape(3, 32, 32), (1, 2, 0))\n",
    "\n",
    "imgs = np.stack([_format_data(d) for d in data])\n",
    "imgs.shape"
   ]
  },
  {
   "cell_type": "markdown",
   "metadata": {},
   "source": [
    "# Utility functions"
   ]
  },
  {
   "cell_type": "code",
   "execution_count": 12,
   "metadata": {},
   "outputs": [],
   "source": [
    "def imresize(img, sz):\n",
    "    return np.array(Image.fromarray(img).resize(sz))"
   ]
  },
  {
   "cell_type": "code",
   "execution_count": 13,
   "metadata": {},
   "outputs": [],
   "source": [
    "def put_lmdb(path_lmdb, keys, vals, sz_block=None, saver=None, hook=None):\n",
    "    path_lmdb.mkdir(parents=True, exist_ok=True)\n",
    "    \n",
    "    # Create database\n",
    "    env = lmdb.open(path_lmdb.as_posix(), map_size=1.6e10)\n",
    "\n",
    "    # Iterate in blocks, which is faster\n",
    "    if sz_block is None:\n",
    "        sz_block=len(data)\n",
    "    \n",
    "    # Get indices and then split into blocks\n",
    "    idxs = np.arange(len(data))\n",
    "    idx_blocks = np.split(idxs, np.ceil(len(data)/sz_block)) \n",
    "    for idx_block in idx_blocks:\n",
    "        with env.begin(write=True) as txn:\n",
    "            for idx in idx_block:\n",
    "                key = keys[idx]\n",
    "                val = vals[idx]\n",
    "                \n",
    "                if hook is not None:\n",
    "                    hook(idx, key, val)\n",
    "\n",
    "                if saver is not None:\n",
    "                    val = saver(val)\n",
    "                    \n",
    "                txn.put(keys[idx].encode('ascii'), val)\n",
    "                \n",
    "    # Close environemnt\n",
    "    env.close()"
   ]
  },
  {
   "cell_type": "code",
   "execution_count": 14,
   "metadata": {},
   "outputs": [],
   "source": [
    "def get_lmdb(path_lmdb, keys, loader=None):\n",
    "    env = lmdb.open(path_lmdb.as_posix(), readonly=True)\n",
    "\n",
    "    # Read all values as a single transaction\n",
    "    with env.begin() as txn:\n",
    "        vals = [txn.get(key.encode('ascii')) for key in keys]\n",
    "    \n",
    "    # Close environment\n",
    "    env.close()\n",
    "    \n",
    "    if loader is not None:\n",
    "        vals = [loader(val) for val in vals]\n",
    "    \n",
    "    return vals"
   ]
  },
  {
   "cell_type": "markdown",
   "metadata": {},
   "source": [
    "# Save images"
   ]
  },
  {
   "cell_type": "markdown",
   "metadata": {},
   "source": [
    "Based on tests, processing becomes gpu constrained for images above 256x256, and also my laptop runs out of space, so don't bother with \"large\" (i.e. 512x512) size images"
   ]
  },
  {
   "cell_type": "code",
   "execution_count": 15,
   "metadata": {},
   "outputs": [],
   "source": [
    "def _save_image(idx, dir_root, ext, sz=None):\n",
    "    label = labels[idx]    \n",
    "    img = imgs[idx]        \n",
    "    filename = Path(filenames[idx].decode('UTF-8')).with_suffix('.' + ext)\n",
    "    \n",
    "    if sz is not None:\n",
    "        img = imresize(img, sz)\n",
    "    \n",
    "    dir_label = dir_root/str(label)\n",
    "    dir_label.mkdir(parents=True, exist_ok=True)\n",
    "    \n",
    "    if ext == 'raw':\n",
    "        img.astype('int8').tofile(dir_label/filename)\n",
    "    else:\n",
    "        Image.fromarray(img).save(dir_label/filename, compress_level=0)"
   ]
  },
  {
   "cell_type": "markdown",
   "metadata": {},
   "source": [
    "### small images"
   ]
  },
  {
   "cell_type": "code",
   "execution_count": 16,
   "metadata": {},
   "outputs": [
    {
     "name": "stderr",
     "output_type": "stream",
     "text": [
      "100%|██████████| 40000/40000 [00:02<00:00, 18258.58it/s]\n",
      "100%|██████████| 40000/40000 [00:02<00:00, 13820.17it/s]\n",
      "100%|██████████| 40000/40000 [00:01<00:00, 20501.09it/s]\n",
      "100%|██████████| 40000/40000 [00:01<00:00, 25610.94it/s]\n"
     ]
    }
   ],
   "source": [
    "for ext in ['png', 'tif', 'jpg', 'raw']:\n",
    "    path_root = path_data/'small_imgs'/ext\n",
    "    Parallel(n_jobs=12)(delayed(_save_image)(i, path_root, ext) for i in tqdm(range(len(filenames))));"
   ]
  },
  {
   "cell_type": "markdown",
   "metadata": {},
   "source": [
    "### medium images"
   ]
  },
  {
   "cell_type": "code",
   "execution_count": 17,
   "metadata": {},
   "outputs": [
    {
     "name": "stderr",
     "output_type": "stream",
     "text": [
      "100%|██████████| 40000/40000 [00:12<00:00, 3206.52it/s]\n",
      "100%|██████████| 40000/40000 [00:13<00:00, 2863.63it/s]\n",
      "100%|██████████| 40000/40000 [00:10<00:00, 3722.99it/s]\n",
      "100%|██████████| 40000/40000 [00:09<00:00, 4337.28it/s]\n"
     ]
    }
   ],
   "source": [
    "for ext in ['png', 'tif', 'jpg', 'raw']:\n",
    "    path_root = path_data/'medium_imgs'/ext\n",
    "    Parallel(n_jobs=8)(delayed(_save_image)(i, path_root, ext, (256, 256)) for i in tqdm(range(len(filenames))));"
   ]
  },
  {
   "cell_type": "markdown",
   "metadata": {},
   "source": [
    "# Save LMDB"
   ]
  },
  {
   "cell_type": "code",
   "execution_count": 18,
   "metadata": {},
   "outputs": [],
   "source": [
    "def _saver_img(img, sz=None):\n",
    "    if sz is not None:\n",
    "        img = imresize(img, sz)  \n",
    "\n",
    "    return pickle.dumps(img)"
   ]
  },
  {
   "cell_type": "markdown",
   "metadata": {},
   "source": [
    "keys will be class_filename"
   ]
  },
  {
   "cell_type": "markdown",
   "metadata": {},
   "source": [
    "### small images"
   ]
  },
  {
   "cell_type": "code",
   "execution_count": 19,
   "metadata": {},
   "outputs": [],
   "source": [
    "path_lmdb = path_data/'small_lmdb'\n",
    "keys = ['_'.join([str(cl), Path(f.decode('utf-8')).stem]) for (cl, f) in zip (labels, filenames)]\n",
    "put_lmdb(path_lmdb/'lmdb',\n",
    "         keys,\n",
    "         imgs,\n",
    "         saver=_saver_img)\n",
    "\n",
    "pd.DataFrame({'label': labels,\n",
    "              'filename': [Path(f.decode('utf-8')).stem for f in filenames],\n",
    "              'key': keys}).to_csv(path_lmdb/'meta.csv', index=False)"
   ]
  },
  {
   "cell_type": "markdown",
   "metadata": {},
   "source": [
    "### medium images"
   ]
  },
  {
   "cell_type": "code",
   "execution_count": 20,
   "metadata": {},
   "outputs": [],
   "source": [
    "path_lmdb = path_data/'medium_lmdb'\n",
    "keys = ['_'.join([str(cl), Path(f.decode('utf-8')).stem]) for (cl, f) in zip (labels, filenames)]\n",
    "put_lmdb(path_lmdb/'lmdb',\n",
    "         keys,\n",
    "         imgs,\n",
    "         sz_block=1000,\n",
    "         saver=lambda x: _saver_img(x, (256, 256)))\n",
    "\n",
    "pd.DataFrame({'label': labels,\n",
    "              'filename': [Path(f.decode('utf-8')).stem for f in filenames],\n",
    "              'key': keys}).to_csv(path_lmdb/'meta.csv', index=False)"
   ]
  },
  {
   "cell_type": "markdown",
   "metadata": {},
   "source": [
    "# Save HDF5"
   ]
  },
  {
   "cell_type": "markdown",
   "metadata": {},
   "source": [
    "### small images"
   ]
  },
  {
   "cell_type": "code",
   "execution_count": 21,
   "metadata": {},
   "outputs": [],
   "source": [
    "path_hdf5 = path_data/'small_hdf5'\n",
    "path_hdf5.mkdir(exist_ok=True)\n",
    "\n",
    "with h5py.File(path_hdf5/'data.hdf5', 'w') as f:\n",
    "    f.create_dataset('data', imgs.shape, imgs.dtype, data=imgs)\n",
    "    \n",
    "(pd.DataFrame({'label': labels,\n",
    "               'filename': [Path(f.decode('utf-8')).stem for f in filenames]})\n",
    " .to_csv(path_hdf5/'meta.csv', index_label='idx'))"
   ]
  },
  {
   "cell_type": "markdown",
   "metadata": {},
   "source": [
    "### medium images"
   ]
  },
  {
   "cell_type": "code",
   "execution_count": 22,
   "metadata": {},
   "outputs": [],
   "source": [
    "path_hdf5 = path_data/'medium_hdf5'\n",
    "path_hdf5.mkdir(exist_ok=True)\n",
    "\n",
    "imgs_med = np.zeros((imgs.shape[0], 256, 256, imgs.shape[3]), dtype=np.uint8)\n",
    "for idx, img in enumerate(imgs):\n",
    "    imgs_med[idx] = imresize(img, (256, 256))\n",
    "    \n",
    "with h5py.File(path_hdf5/'data.hdf5', 'w') as f:\n",
    "    f.create_dataset('data', imgs_med.shape, imgs_med.dtype, data=imgs_med)\n",
    "\n",
    "del imgs_med\n",
    "\n",
    "(pd.DataFrame({'label': labels,\n",
    "               'filename': [Path(f.decode('utf-8')).stem for f in filenames]})\n",
    " .to_csv(path_hdf5/'meta.csv', index_label='idx'))"
   ]
  },
  {
   "cell_type": "markdown",
   "metadata": {},
   "source": [
    "# Test"
   ]
  },
  {
   "cell_type": "code",
   "execution_count": 23,
   "metadata": {},
   "outputs": [],
   "source": [
    "filename = 'cassowary_s_001300'\n",
    "label = '2'\n",
    "size = 'medium'"
   ]
  },
  {
   "cell_type": "markdown",
   "metadata": {},
   "source": [
    "### Load image"
   ]
  },
  {
   "cell_type": "code",
   "execution_count": 24,
   "metadata": {},
   "outputs": [],
   "source": [
    "def _open_path(path_img):\n",
    "    if path_img.suffix == '.raw':\n",
    "        img = np.fromfile(path_img, dtype='uint8')\n",
    "        sz = int(np.sqrt(img.size/3))\n",
    "        img = Image.fromarray(img.reshape(sz, sz, 3))\n",
    "    else:\n",
    "        img = Image.open(path_img)\n",
    "        \n",
    "    return img"
   ]
  },
  {
   "cell_type": "code",
   "execution_count": 25,
   "metadata": {},
   "outputs": [],
   "source": [
    "ext = 'png'"
   ]
  },
  {
   "cell_type": "code",
   "execution_count": 26,
   "metadata": {},
   "outputs": [
    {
     "data": {
      "text/plain": [
       "<matplotlib.image.AxesImage at 0x7f6dbb7a61d0>"
      ]
     },
     "execution_count": 26,
     "metadata": {},
     "output_type": "execute_result"
    },
    {
     "data": {
      "image/png": "[encoded data removed]",
      "text/plain": [
       "<Figure size 432x288 with 1 Axes>"
      ]
     },
     "metadata": {
      "needs_background": "light"
     },
     "output_type": "display_data"
    }
   ],
   "source": [
    "path_file = path_data/(size + '_imgs')/ext/label/(filename + '.' + ext)\n",
    "plt.imshow(_open_path(path_file))"
   ]
  },
  {
   "cell_type": "markdown",
   "metadata": {},
   "source": [
    "### Load lmdb"
   ]
  },
  {
   "cell_type": "code",
   "execution_count": 27,
   "metadata": {},
   "outputs": [],
   "source": [
    "def _open_lmdb(path_lmdb, label, filename):        \n",
    "    return Image.fromarray(get_lmdb(path_lmdb,\n",
    "                           [label + '_' + filename], # Key is label_filename\n",
    "                           pickle.loads)[0])"
   ]
  },
  {
   "cell_type": "code",
   "execution_count": 28,
   "metadata": {},
   "outputs": [
    {
     "data": {
      "text/plain": [
       "<matplotlib.image.AxesImage at 0x7f6dbb721828>"
      ]
     },
     "execution_count": 28,
     "metadata": {},
     "output_type": "execute_result"
    },
    {
     "data": {
      "image/png": "[encoded data removed]",
      "text/plain": [
       "<Figure size 432x288 with 1 Axes>"
      ]
     },
     "metadata": {
      "needs_background": "light"
     },
     "output_type": "display_data"
    }
   ],
   "source": [
    "path_lmdb = path_data/(size  + '_lmdb')/'lmdb'\n",
    "plt.imshow(_open_lmdb(path_lmdb, label, filename))"
   ]
  },
  {
   "cell_type": "markdown",
   "metadata": {},
   "source": [
    "### Load hdf5"
   ]
  },
  {
   "cell_type": "code",
   "execution_count": 29,
   "metadata": {},
   "outputs": [],
   "source": [
    "def _open_hdf5(path_hdf5, label, filename):\n",
    "    # Must find index given a label and filename\n",
    "    df_meta = pd.read_csv(path_hdf5/'meta.csv')\n",
    "    info = df_meta[(df_meta.label == int(label)) & (df_meta.filename == filename)]\n",
    "    with h5py.File(path_hdf5/'data.hdf5', \"r\") as f:\n",
    "        img = f['data'][info['idx']]\n",
    "    return Image.fromarray(img)"
   ]
  },
  {
   "cell_type": "code",
   "execution_count": 30,
   "metadata": {},
   "outputs": [
    {
     "data": {
      "text/plain": [
       "<matplotlib.image.AxesImage at 0x7f6dbbc25358>"
      ]
     },
     "execution_count": 30,
     "metadata": {},
     "output_type": "execute_result"
    },
    {
     "data": {
      "image/png": "[encoded data removed]",
      "text/plain": [
       "<Figure size 432x288 with 1 Axes>"
      ]
     },
     "metadata": {
      "needs_background": "light"
     },
     "output_type": "display_data"
    }
   ],
   "source": [
    "path_hdf5 = path_data/(size + '_hdf5')\n",
    "plt.imshow(_open_hdf5(path_hdf5, label, filename))"
   ]
  },
  {
   "cell_type": "code",
   "execution_count": null,
   "metadata": {},
   "outputs": [],
   "source": []
  }
 ],
 "metadata": {
  "kernelspec": {
   "display_name": "Python 3",
   "language": "python",
   "name": "python3"
  },
  "language_info": {
   "codemirror_mode": {
    "name": "ipython",
    "version": 3
   },
   "file_extension": ".py",
   "mimetype": "text/x-python",
   "name": "python",
   "nbconvert_exporter": "python",
   "pygments_lexer": "ipython3",
   "version": "3.6.8"
  }
 },
 "nbformat": 4,
 "nbformat_minor": 2
}
