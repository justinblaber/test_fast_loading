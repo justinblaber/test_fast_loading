{
 "cells": [
  {
   "cell_type": "markdown",
   "metadata": {},
   "source": [
    "# Import"
   ]
  },
  {
   "cell_type": "code",
   "execution_count": 1,
   "metadata": {},
   "outputs": [],
   "source": [
    "%load_ext autoreload\n",
    "%autoreload 2"
   ]
  },
  {
   "cell_type": "code",
   "execution_count": 2,
   "metadata": {},
   "outputs": [],
   "source": [
    "import numpy as np\n",
    "import matplotlib.pyplot as plt\n",
    "from pathlib import Path\n",
    "from joblib import Parallel, delayed\n",
    "from tqdm import tqdm\n",
    "from PIL import Image\n",
    "import pdb"
   ]
  },
  {
   "cell_type": "markdown",
   "metadata": {
    "heading_collapsed": true
   },
   "source": [
    "# Config"
   ]
  },
  {
   "cell_type": "code",
   "execution_count": 3,
   "metadata": {
    "hidden": true
   },
   "outputs": [],
   "source": [
    "path_data = Path('data')"
   ]
  },
  {
   "cell_type": "code",
   "execution_count": 4,
   "metadata": {
    "hidden": true
   },
   "outputs": [
    {
     "name": "stdout",
     "output_type": "stream",
     "text": [
      "cifar-10-batches-py\r\n"
     ]
    }
   ],
   "source": [
    "!ls {path_data}"
   ]
  },
  {
   "cell_type": "markdown",
   "metadata": {
    "heading_collapsed": true
   },
   "source": [
    "# Load pickle"
   ]
  },
  {
   "cell_type": "code",
   "execution_count": 5,
   "metadata": {
    "hidden": true
   },
   "outputs": [],
   "source": [
    "path_cifar = path_data/'cifar-10-batches-py'"
   ]
  },
  {
   "cell_type": "code",
   "execution_count": 6,
   "metadata": {
    "hidden": true
   },
   "outputs": [],
   "source": [
    "def unpickle(file):\n",
    "    import pickle\n",
    "    with open(file, 'rb') as fo:\n",
    "        dict = pickle.load(fo, encoding='bytes')\n",
    "    return dict"
   ]
  },
  {
   "cell_type": "code",
   "execution_count": 7,
   "metadata": {
    "hidden": true
   },
   "outputs": [],
   "source": [
    "data_batches = [unpickle(path_cifar/('data_batch_' + str(i))) for i in range(1,5)]"
   ]
  },
  {
   "cell_type": "markdown",
   "metadata": {
    "hidden": true
   },
   "source": [
    "Get labels, data, and filenames. Note that files are png by default"
   ]
  },
  {
   "cell_type": "code",
   "execution_count": 8,
   "metadata": {
    "hidden": true
   },
   "outputs": [
    {
     "data": {
      "text/plain": [
       "(40000,)"
      ]
     },
     "execution_count": 8,
     "metadata": {},
     "output_type": "execute_result"
    }
   ],
   "source": [
    "labels = np.concatenate([data_batch[b'labels'] for data_batch in data_batches])\n",
    "labels.shape"
   ]
  },
  {
   "cell_type": "code",
   "execution_count": 9,
   "metadata": {
    "hidden": true
   },
   "outputs": [
    {
     "data": {
      "text/plain": [
       "(40000, 3072)"
      ]
     },
     "execution_count": 9,
     "metadata": {},
     "output_type": "execute_result"
    }
   ],
   "source": [
    "data = np.concatenate([data_batch[b'data'] for data_batch in data_batches])\n",
    "data.shape"
   ]
  },
  {
   "cell_type": "code",
   "execution_count": 10,
   "metadata": {
    "hidden": true
   },
   "outputs": [
    {
     "data": {
      "text/plain": [
       "(40000,)"
      ]
     },
     "execution_count": 10,
     "metadata": {},
     "output_type": "execute_result"
    }
   ],
   "source": [
    "filenames = np.concatenate([data_batch[b'filenames'] for data_batch in data_batches])\n",
    "filenames.shape"
   ]
  },
  {
   "cell_type": "markdown",
   "metadata": {
    "heading_collapsed": true
   },
   "source": [
    "# Utility functions"
   ]
  },
  {
   "cell_type": "code",
   "execution_count": 11,
   "metadata": {
    "hidden": true
   },
   "outputs": [],
   "source": [
    "def format_img(img):\n",
    "    return np.transpose(img.reshape(3, 32, 32), (1, 2, 0))"
   ]
  },
  {
   "cell_type": "code",
   "execution_count": 12,
   "metadata": {
    "hidden": true
   },
   "outputs": [],
   "source": [
    "def save_image(idx, path_root, ext, sz=None):\n",
    "    label = labels[idx]    \n",
    "    img = format_img(data[idx])        \n",
    "    filename = Path(filenames[idx].decode('UTF-8')).with_suffix('.' + ext)\n",
    "    \n",
    "    if sz is not None:\n",
    "        img = np.array(Image.fromarray(img).resize(sz))\n",
    "    \n",
    "    label_dir = path_root/str(label)\n",
    "    label_dir.mkdir(parents=True, exist_ok=True)\n",
    "    \n",
    "    if ext == 'raw':\n",
    "        img.astype('int8').tofile(label_dir/filename)\n",
    "    else:\n",
    "        Image.fromarray(img).save(label_dir/filename, compress_level=0)"
   ]
  },
  {
   "cell_type": "markdown",
   "metadata": {},
   "source": [
    "# Save small size images"
   ]
  },
  {
   "cell_type": "code",
   "execution_count": 13,
   "metadata": {},
   "outputs": [
    {
     "name": "stderr",
     "output_type": "stream",
     "text": [
      "100%|██████████| 40000/40000 [00:02<00:00, 19082.33it/s]\n",
      "100%|██████████| 40000/40000 [00:02<00:00, 16768.72it/s]\n",
      "100%|██████████| 40000/40000 [00:01<00:00, 24485.31it/s]\n",
      "100%|██████████| 40000/40000 [00:01<00:00, 27985.31it/s]\n"
     ]
    }
   ],
   "source": [
    "for ext in ['png', 'tif', 'jpg', 'raw']:\n",
    "    root_path = path_data/'small_size'/ext\n",
    "    Parallel(n_jobs=8)(delayed(save_image)(i, root_path, ext) for i in tqdm(range(len(filenames))));"
   ]
  },
  {
   "cell_type": "markdown",
   "metadata": {},
   "source": [
    "# Save large size images"
   ]
  },
  {
   "cell_type": "code",
   "execution_count": 14,
   "metadata": {},
   "outputs": [
    {
     "name": "stderr",
     "output_type": "stream",
     "text": [
      "100%|██████████| 40000/40000 [00:46<00:00, 869.26it/s] \n",
      "100%|██████████| 40000/40000 [00:49<00:00, 808.90it/s]\n",
      "100%|██████████| 40000/40000 [00:38<00:00, 1048.31it/s]\n",
      "100%|██████████| 40000/40000 [00:42<00:00, 938.81it/s] \n"
     ]
    }
   ],
   "source": [
    "for ext in ['png', 'tif', 'jpg', 'raw']:\n",
    "    root_path = path_data/'large_size'/ext\n",
    "    Parallel(n_jobs=8)(delayed(save_image)(i, root_path, ext, (512, 512)) for i in tqdm(range(len(filenames))));"
   ]
  }
 ],
 "metadata": {
  "kernelspec": {
   "display_name": "Python 3",
   "language": "python",
   "name": "python3"
  },
  "language_info": {
   "codemirror_mode": {
    "name": "ipython",
    "version": 3
   },
   "file_extension": ".py",
   "mimetype": "text/x-python",
   "name": "python",
   "nbconvert_exporter": "python",
   "pygments_lexer": "ipython3",
   "version": "3.6.8"
  }
 },
 "nbformat": 4,
 "nbformat_minor": 2
}
